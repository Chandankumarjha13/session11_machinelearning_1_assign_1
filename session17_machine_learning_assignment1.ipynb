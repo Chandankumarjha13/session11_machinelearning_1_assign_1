{
 "cells": [
  {
   "cell_type": "markdown",
   "metadata": {},
   "source": [
    "# Problem Statement"
   ]
  },
  {
   "cell_type": "markdown",
   "metadata": {},
   "source": [
    "1. What are the three stages to build the hypotheses or model in machine learning?"
   ]
  },
  {
   "cell_type": "markdown",
   "metadata": {},
   "source": [
    "#Solution\n",
    "\n",
    "a)      Model building\n",
    "\n",
    "b)      Model testing\n",
    "\n",
    "c)       Applying the model"
   ]
  },
  {
   "cell_type": "markdown",
   "metadata": {},
   "source": [
    "2. What is the standard approach to supervised learning?"
   ]
  },
  {
   "cell_type": "markdown",
   "metadata": {},
   "source": [
    "The standard approach to supervised learning is to split the set of example into the training set and the test."
   ]
  },
  {
   "cell_type": "markdown",
   "metadata": {},
   "source": [
    "3. What is Training set and Test set?"
   ]
  },
  {
   "cell_type": "markdown",
   "metadata": {},
   "source": [
    "Training Set-\n",
    "In machine learning, a training set is a dataset used to train a model. In training the model,\n",
    "specific features are picked out from the training set. These features are then incorporated into the model.\n",
    "Thereby, if the training set is labeled correctly, the model should be able to learn something from these features.\n",
    "\n",
    "Test Set -\n",
    "The test set is a dataset used to measure how well the model performs at making predictions on that test set.\n",
    "If the prediction scores for the test set are unreasonable, we’ll need to make some adjustments to our model and\n",
    "try again."
   ]
  },
  {
   "cell_type": "markdown",
   "metadata": {},
   "source": [
    "4. What is the general principle of an ensemble method and what is bagging and\n",
    "boosting in ensemble method?"
   ]
  },
  {
   "cell_type": "markdown",
   "metadata": {},
   "source": [
    "General principle of anensemble method - \n",
    "The general principle of an ensemble method is to combine the predictions of several models built with a given learning algorithm in order to improve robustness over a single model.\n",
    "\n",
    "\n",
    "Bagging - \n",
    "Bagging is a method in ensemble for improving unstable estimation or classification schemes. Bagging both can reduce errors by reducing the variance term.\n",
    "\n",
    "Boosting - \n",
    "Boosting method are used sequentially to reduce the bias of the combined model. Boosting can reduce errors by reducing the variance term."
   ]
  },
  {
   "cell_type": "code",
   "execution_count": null,
   "metadata": {},
   "outputs": [],
   "source": [
    "5. How can you avoid overfitting ?"
   ]
  },
  {
   "cell_type": "markdown",
   "metadata": {},
   "source": [
    "By using a lot of data overfitting can be avoided, overfitting happens relatively as we have a small dataset, \n",
    "and we try to learn from it. But if we have a small database and you are forced to come with a model based on \n",
    "that. In such situation, you can use a technique known as cross validation. In this method the dataset splits into\n",
    "two section, testing and training datasets, the testing dataset will only test the model while, \n",
    "in training dataset, the datapoints will come up with the model.\n",
    "\n",
    "In this technique,  a model is usually given a dataset of a known data on which training (training data set)\n",
    "is run and a dataset of unknown data against which the model is tested. The idea of cross validation is to \n",
    "define a dataset to “test” the model in the training phase."
   ]
  }
 ],
 "metadata": {
  "kernelspec": {
   "display_name": "Python 3",
   "language": "python",
   "name": "python3"
  },
  "language_info": {
   "codemirror_mode": {
    "name": "ipython",
    "version": 3
   },
   "file_extension": ".py",
   "mimetype": "text/x-python",
   "name": "python",
   "nbconvert_exporter": "python",
   "pygments_lexer": "ipython3",
   "version": "3.6.4"
  }
 },
 "nbformat": 4,
 "nbformat_minor": 2
}
